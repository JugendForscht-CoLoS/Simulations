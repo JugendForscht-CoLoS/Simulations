{
 "cells": [
  {
   "cell_type": "code",
   "execution_count": 10,
   "metadata": {},
   "outputs": [],
   "source": [
    "import numpy as np\n",
    "import matplotlib.pyplot as plt\n",
    "import os\n",
    "\n",
    "with open('../SimulationPrograms/datafiles/data0.sundata', 'r', encoding='utf-8') as file:\n",
    "    lines = file.read().splitlines()\n",
    "    \n",
    "location = lines[0]\n",
    "date = lines[1]\n",
    "time = lines[2].split(':')\n",
    "time = time[0]*60+ time[1]\n",
    "\n",
    "elevation = np.array([])\n",
    "azimut = np.array([])\n",
    "\n",
    "for i in range(3, len(lines)):\n",
    "    sun_pos = lines[i].split(';')\n",
    "    azimut = np.append(azimut, float(sun_pos[0])) #-90))\n",
    "    elevation = np.append(elevation, float(sun_pos[1]))"
   ]
  },
  {
   "cell_type": "code",
   "execution_count": null,
   "metadata": {},
   "outputs": [],
   "source": []
  }
 ],
 "metadata": {
  "kernelspec": {
   "display_name": "Python 3.6 (tensorflow_gpuenv)",
   "language": "python",
   "name": "tensorflow_gpuenv"
  },
  "language_info": {
   "codemirror_mode": {
    "name": "ipython",
    "version": 3
   },
   "file_extension": ".py",
   "mimetype": "text/x-python",
   "name": "python",
   "nbconvert_exporter": "python",
   "pygments_lexer": "ipython3",
   "version": "3.8.5"
  }
 },
 "nbformat": 4,
 "nbformat_minor": 4
}
