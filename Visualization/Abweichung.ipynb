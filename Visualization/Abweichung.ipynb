{
 "cells": [
  {
   "cell_type": "code",
   "execution_count": 18,
   "metadata": {},
   "outputs": [
    {
     "ename": "AttributeError",
     "evalue": "'str' object has no attribute 'readlines'",
     "output_type": "error",
     "traceback": [
      "\u001b[1;31m---------------------------------------------------------------------------\u001b[0m",
      "\u001b[1;31mAttributeError\u001b[0m                            Traceback (most recent call last)",
      "\u001b[1;32m<ipython-input-18-1b1ab9f62f42>\u001b[0m in \u001b[0;36m<module>\u001b[1;34m\u001b[0m\n\u001b[0;32m      8\u001b[0m \u001b[1;33m\u001b[0m\u001b[0m\n\u001b[0;32m      9\u001b[0m     \u001b[1;32mwith\u001b[0m \u001b[0mopen\u001b[0m\u001b[1;33m(\u001b[0m\u001b[0mfile\u001b[0m\u001b[1;33m,\u001b[0m \u001b[1;34m'r'\u001b[0m\u001b[1;33m,\u001b[0m \u001b[0mencoding\u001b[0m\u001b[1;33m=\u001b[0m\u001b[1;34m'utf-8'\u001b[0m\u001b[1;33m)\u001b[0m \u001b[1;32mas\u001b[0m \u001b[0mlines\u001b[0m\u001b[1;33m:\u001b[0m\u001b[1;33m\u001b[0m\u001b[1;33m\u001b[0m\u001b[0m\n\u001b[1;32m---> 10\u001b[1;33m         \u001b[0mlines\u001b[0m \u001b[1;33m=\u001b[0m \u001b[0mfile\u001b[0m\u001b[1;33m.\u001b[0m\u001b[0mreadlines\u001b[0m\u001b[1;33m(\u001b[0m\u001b[1;33m)\u001b[0m\u001b[1;33m\u001b[0m\u001b[1;33m\u001b[0m\u001b[0m\n\u001b[0m\u001b[0;32m     11\u001b[0m \u001b[1;33m\u001b[0m\u001b[0m\n\u001b[0;32m     12\u001b[0m     \u001b[1;31m#Datei auslesen und Daten aufbereiten\u001b[0m\u001b[1;33m\u001b[0m\u001b[1;33m\u001b[0m\u001b[1;33m\u001b[0m\u001b[0m\n",
      "\u001b[1;31mAttributeError\u001b[0m: 'str' object has no attribute 'readlines'"
     ]
    }
   ],
   "source": [
    "import numpy as np\n",
    "import matplotlib.pyplot as plt\n",
    "import glob\n",
    "\n",
    "files = glob.glob('../SimulationPrograms/datafiles/deviations/*.deviationdata')\n",
    "\n",
    "for file in files: \n",
    "    \n",
    "    with open(file, 'r', encoding='utf-8') as lines:\n",
    "        lines = file.readlines()\n",
    "    \n",
    "    #Datei auslesen und Daten aufbereiten\n",
    "    location = lines[0]\n",
    "    date = lines[1]\n",
    "    time = lines[2].split(':')\n",
    "    time = time[0]*60+ time[1]\n",
    "\n",
    "    wait = np.array([])\n",
    "    time = np.array([])\n",
    "    latitude = np.array([])\n",
    "    longitude = np.array([])\n",
    "\n",
    "    for i in range(3, len(lines)):\n",
    "        data = list(map(float, lines[i].split(';')))\n",
    "        wait = np.append(wait, data[0]/60)\n",
    "        time = np.append(time, data[1]/3600)\n",
    "        latitude = np.append(latitude, data[2])\n",
    "        longitude = np.append(longitude, data[3])\n",
    "    \n",
    "    #Werte der Datei veranschaulichen\n",
    "    fig = plt.figure(figsize=(30,30))\n",
    "\n",
    "    ax = fig.add_subplot(1, 2, 1, projection='3d')\n",
    "    ax.set_title(\"Breitengradabweichung am Standort: \"+location+\" am \"+date, fontsize=22)\n",
    "    ax.scatter(wait, time, latitude, c='r', marker='o')\n",
    "\n",
    "    ax.set_xlabel('Wartezeit [min]', fontsize=16)\n",
    "    ax.set_ylabel('Uhrzeit UTC [h]', fontsize=16)\n",
    "    ax.set_zlabel('Abweichung Breitengrad [°]', fontsize=16)\n",
    "\n",
    "    ax = fig.add_subplot(1, 2, 2, projection='3d')\n",
    "    ax.set_title(\"Längengradabweichung am Standort: \"+location+\" am \"+date, fontsize=22)\n",
    "    ax.scatter(wait, time, longitude, c='b', marker='o')\n",
    "\n",
    "    ax.set_xlabel('Wartezeit [min]', fontsize=16)\n",
    "    ax.set_ylabel('Uhrzeit UTC [h]', fontsize=16)\n",
    "    ax.set_zlabel('Abweichung Längengrad [°]', fontsize=16)\n",
    "\n",
    "    plt.show()"
   ]
  },
  {
   "cell_type": "code",
   "execution_count": null,
   "metadata": {},
   "outputs": [],
   "source": []
  }
 ],
 "metadata": {
  "kernelspec": {
   "display_name": "Python 3",
   "language": "python",
   "name": "python3"
  },
  "language_info": {
   "codemirror_mode": {
    "name": "ipython",
    "version": 3
   },
   "file_extension": ".py",
   "mimetype": "text/x-python",
   "name": "python",
   "nbconvert_exporter": "python",
   "pygments_lexer": "ipython3",
   "version": "3.8.5"
  }
 },
 "nbformat": 4,
 "nbformat_minor": 4
}
